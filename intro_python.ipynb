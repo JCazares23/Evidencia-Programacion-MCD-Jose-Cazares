{
 "cells": [
  {
   "cell_type": "markdown",
   "metadata": {
    "id": "0ily663BGoGr"
   },
   "source": [
    "<center>\n",
    "<p><img src=\"https://mcd.unison.mx/wp-content/themes/awaken/img/logo_mcd.png\" width=\"100\">\n",
    "</p>\n",
    "\n",
    "\n",
    "\n",
    "# Curso Propedéutico en *Programación*\n",
    "\n",
    "## Introducción a `python` resolviendo preguntas\n",
    "\n",
    "\n",
    "**Julio Waissman Vilanova**\n",
    "\n"
   ]
  },
  {
   "cell_type": "markdown",
   "metadata": {
    "id": "naXM-y72GoGs"
   },
   "source": [
    "### Tipos\n",
    "\n",
    "¿Cuales son los tipos de datos básicos? Revisa los tipos siguientes:\n",
    "\n",
    "1. Tipos numéricos `int`, `float`, `complex`\n",
    "2. Cadenas de caracteres\n",
    "3. Tuplas\n",
    "4. Listas\n",
    "5. Diccionarios\n",
    "6. Conjuntos\n",
    "\n",
    "Da ejemplo de sobrecarga de operadores (en particular `+` y `*`)\n",
    "\n"
   ]
  },
  {
   "cell_type": "code",
   "execution_count": 1,
   "metadata": {
    "id": "ZkrzNkzmGoGs"
   },
   "outputs": [
    {
     "name": "stdout",
     "output_type": "stream",
     "text": [
      "(4, 6) (3, 8)\n"
     ]
    }
   ],
   "source": [
    "x = (3, 4)\n",
    "y = (1, 2)\n",
    "\n",
    "z1 = tuple(x_elem + y_elem for x_elem, y_elem in zip(x, y))\n",
    "\n",
    "\n",
    "z2 = tuple(x_elem * y_elem for x_elem, y_elem in zip(x, y))\n",
    "print(z1, z2)"
   ]
  },
  {
   "cell_type": "markdown",
   "metadata": {
    "id": "csEnNHhsGoGt"
   },
   "source": [
    "¿Que significa que unos tipos sean *mutables* y otros *inmutables*?\n",
    "\n",
    "Realiza un pequeño programa donde quede claro lo que significa que un tipo de datos sea mutable, e ilustra el uso del método `copy.deepcopy()`."
   ]
  },
  {
   "cell_type": "code",
   "execution_count": 2,
   "metadata": {
    "id": "7CRsz5pBGoGt"
   },
   "outputs": [
    {
     "data": {
      "text/plain": [
       "[1, 2, [3, 4, 5]]"
      ]
     },
     "execution_count": 2,
     "metadata": {},
     "output_type": "execute_result"
    }
   ],
   "source": [
    "import copy\n",
    "\n",
    "#Inmutable\n",
    "x = 5\n",
    "y = x + 1\n",
    "\n",
    "#Mutable\n",
    "lista_original = [1, 2, 3]\n",
    "lista_copia = lista_original[:]\n",
    "lista_original.append(4)\n",
    "\n",
    "#Uso de copy.deepcopy()\n",
    "lista_original = [1, 2, [3, 4]]\n",
    "lista_copia_profunda = copy.deepcopy(lista_original)\n",
    "lista_original[2].append(5)\n",
    "lista_original"
   ]
  },
  {
   "cell_type": "markdown",
   "metadata": {
    "id": "Bo4Y3yrLGoGt"
   },
   "source": [
    "### *Comprehension* de listas, conjuntos y diccionarios\n",
    "\n",
    "Escribe, en una sola linea, una expresión que genere una lista con todos los números enteros que se encuentran entre $1$ y $n$\n",
    "que sean divisibles por $3$ y $7$ y que el dígito menos significativo del número sea $6$."
   ]
  },
  {
   "cell_type": "code",
   "execution_count": 3,
   "metadata": {
    "id": "KsKgfhGaGoGu"
   },
   "outputs": [
    {
     "data": {
      "text/plain": [
       "[126,\n",
       " 336,\n",
       " 546,\n",
       " 756,\n",
       " 966,\n",
       " 1176,\n",
       " 1386,\n",
       " 1596,\n",
       " 1806,\n",
       " 2016,\n",
       " 2226,\n",
       " 2436,\n",
       " 2646,\n",
       " 2856,\n",
       " 3066,\n",
       " 3276,\n",
       " 3486,\n",
       " 3696,\n",
       " 3906,\n",
       " 4116,\n",
       " 4326,\n",
       " 4536,\n",
       " 4746,\n",
       " 4956,\n",
       " 5166,\n",
       " 5376,\n",
       " 5586,\n",
       " 5796,\n",
       " 6006,\n",
       " 6216,\n",
       " 6426,\n",
       " 6636,\n",
       " 6846,\n",
       " 7056,\n",
       " 7266,\n",
       " 7476,\n",
       " 7686,\n",
       " 7896,\n",
       " 8106,\n",
       " 8316,\n",
       " 8526,\n",
       " 8736,\n",
       " 8946,\n",
       " 9156,\n",
       " 9366,\n",
       " 9576,\n",
       " 9786,\n",
       " 9996]"
      ]
     },
     "execution_count": 3,
     "metadata": {},
     "output_type": "execute_result"
    }
   ],
   "source": [
    "n = 10_000\n",
    "\n",
    "# Escribe aqui el *one linner*\n",
    "numeros = [num for num in range(1, n+1) if num % 3 == 0 and num % 7 == 0 and num % 10 == 6]\n",
    "numeros"
   ]
  },
  {
   "cell_type": "markdown",
   "metadata": {
    "id": "oBqukOZXGoGu"
   },
   "source": [
    "### Funciones\n",
    "\n",
    "Escribe una función que:\n",
    "\n",
    "1. reciba una lista de elementos (letras, números, lo que sea),\n",
    "2. cuente la ocurrencia de cada elemento en la lista,\n",
    "3. devuelva las ocurrencias en forma de diccionario,\n",
    "4. si imprime es True, imprima un histograma de ocurrencias, por ejemplo:\n",
    "\n",
    "```python\n",
    "\n",
    "lista = [1,'a',1, 13, 'hola', 'a', 1, 1, 'a', 1]\n",
    "\n",
    "d = funcion_ejemplo(lista, imprime = True)\n",
    "\n",
    "1    \t\t***** \t(5 -> 50%)\n",
    "'a'  \t\t***   \t(3 -> 30%)\n",
    "13\t\t*\t(1 -> 10%)\n",
    "'hola'\t\t*\t(1 -> 10%)\n",
    "\n",
    "```"
   ]
  },
  {
   "cell_type": "code",
   "execution_count": 4,
   "metadata": {
    "id": "-25V71dwGoGu"
   },
   "outputs": [],
   "source": [
    "# Escribe la función aquí\n",
    "def funcion_ejemplo(lista, imprime=False):\n",
    "    ocurrencias = {}\n",
    "    for elemento in lista:\n",
    "        ocurrencias[elemento] = ocurrencias.get(elemento, 0) + 1\n",
    "    \n",
    "    total_elementos = len(lista)\n",
    "    porcentajes = {elemento: (ocurrencias[elemento] / total_elementos) * 100 for elemento in ocurrencias}\n",
    "    \n",
    "    if imprime:\n",
    "        for elemento, conteo in ocurrencias.items():\n",
    "            porcentaje = porcentajes[elemento]\n",
    "            print(f\"{elemento:<10} {'*' * conteo}  ({conteo} -> {porcentaje:.0f}%)\")\n",
    "    \n",
    "    return ocurrencias"
   ]
  },
  {
   "cell_type": "code",
   "execution_count": 5,
   "metadata": {
    "id": "6D5SOdg9GoGv"
   },
   "outputs": [
    {
     "name": "stdout",
     "output_type": "stream",
     "text": [
      "1          *****  (5 -> 50%)\n",
      "a          ***  (3 -> 30%)\n",
      "13         *  (1 -> 10%)\n",
      "hola       *  (1 -> 10%)\n",
      "{1: 5, 'a': 3, 13: 1, 'hola': 1}\n"
     ]
    }
   ],
   "source": [
    "# Realiza pruebas aquí\n",
    "lista = [1,'a',1, 13, 'hola', 'a', 1, 1, 'a', 1]\n",
    "d = funcion_ejemplo(lista, imprime = True)\n",
    "print(d)"
   ]
  },
  {
   "cell_type": "markdown",
   "metadata": {
    "id": "xE0aNmmeGoGv"
   },
   "source": [
    "Escribe una función que modifique un diccionario y regrese el diccionario modificado y una copia del original, donde cada entrada\n",
    "del diccionario sea una lista de valores. Ten en cuenta que si una entrada del diccionario es de tipo mutable, al modificarlo en la\n",
    "copia se modifica el original. Utiliza el modulo `copy` para evitar este problema. Ejemplo de la función:\n",
    "\n",
    "```python\n",
    "dic1 = {'Pepe':[12, 'enero', 1980], 'Carolina':[15,'mayo',1975],'Paco':[10,'nov',1970]}\n",
    "dic2 = fundicos(dic1, 'Pepe', 1, 'febrero')\n",
    "\n",
    "print(dic1)\n",
    "{'Pepe':[12, 'enero', 1980], 'Carolina':[15,'mayo',1975],'Paco':[10,'nov',1970]}\n",
    "\n",
    "print(dic2)\n",
    "{'Pepe':[12, 'febrero', 1980], 'Carolina':[15,'mayo',1975],'Paco':[10,'nov',1970]}\n",
    "```"
   ]
  },
  {
   "cell_type": "code",
   "execution_count": 6,
   "metadata": {
    "id": "yNGL6BENGoGv"
   },
   "outputs": [],
   "source": [
    "# Escribe la función fundicos aquí\n",
    "def fundicos(diccionario, clave, indice, valor):\n",
    "    diccionario_copia = copy.deepcopy(diccionario)\n",
    "    \n",
    "    if clave in diccionario_copia:\n",
    "        if isinstance(diccionario_copia[clave], list):\n",
    "            diccionario_copia[clave][indice] = valor\n",
    "    \n",
    "    return diccionario_copia"
   ]
  },
  {
   "cell_type": "code",
   "execution_count": 7,
   "metadata": {
    "id": "gphUDdzNGoGw"
   },
   "outputs": [
    {
     "name": "stdout",
     "output_type": "stream",
     "text": [
      "{'Pepe': [20, 'enero', 2002], 'Carolina': [15, 'mayo', 1975], 'Paco': [10, 'nov', 1970]}\n",
      "{'Pepe': [20, 'noviembre', 2002], 'Carolina': [15, 'mayo', 1975], 'Paco': [10, 'nov', 1970]}\n"
     ]
    }
   ],
   "source": [
    "# Realiza pruebas de fundicos aquí\n",
    "dic1 = {'Pepe':[20, 'enero', 2002], 'Carolina':[15,'mayo',1975],'Paco':[10,'nov',1970]}\n",
    "dic2 = fundicos(dic1, 'Pepe', 1, 'noviembre')\n",
    "\n",
    "print(dic1)\n",
    "print(dic2)"
   ]
  },
  {
   "cell_type": "markdown",
   "metadata": {
    "id": "EizgC6HXGoGw"
   },
   "source": [
    "### Generadores\n",
    "\n",
    "Escribe un generador que reciba una lista y genere todas las permutaciones que se puedan hacer con los elementos de la lista"
   ]
  },
  {
   "cell_type": "code",
   "execution_count": 8,
   "metadata": {
    "id": "x5GeiTpuGoGw"
   },
   "outputs": [],
   "source": [
    "# Escribe aqui fun1\n",
    "\n",
    "def permutaciones(lista):\n",
    "    \"\"\"\n",
    "    Permutaciones de los elementos de una lista.\n",
    "\n",
    "    Devuelve un generador con todas las permutaciones posibles de los elementos de la lista de entrada\n",
    "    \"\"\"\n",
    "    # Caso base: si la lista tiene un solo elemento, devuelve una lista con ese elemento\n",
    "    if len(lista) == 1:\n",
    "        yield lista\n",
    "    else:\n",
    "        # Recorre cada elemento de la lista\n",
    "        for i in range(len(lista)):\n",
    "            # Genera todas las permutaciones de los elementos restantes\n",
    "            for perm in permutaciones(lista[:i] + lista[i+1:]):\n",
    "                # Combina el elemento actual con cada permutación de los elementos restantes\n",
    "                yield [lista[i]] + perm"
   ]
  },
  {
   "cell_type": "code",
   "execution_count": 9,
   "metadata": {
    "id": "_nJH31imGoGw"
   },
   "outputs": [
    {
     "name": "stdout",
     "output_type": "stream",
     "text": [
      "['a', 'b', 'c', 'd']\n",
      "['a', 'b', 'd', 'c']\n",
      "['a', 'c', 'b', 'd']\n",
      "['a', 'c', 'd', 'b']\n",
      "['a', 'd', 'b', 'c']\n",
      "['a', 'd', 'c', 'b']\n",
      "['b', 'a', 'c', 'd']\n",
      "['b', 'a', 'd', 'c']\n",
      "['b', 'c', 'a', 'd']\n",
      "['b', 'c', 'd', 'a']\n",
      "['b', 'd', 'a', 'c']\n",
      "['b', 'd', 'c', 'a']\n",
      "['c', 'a', 'b', 'd']\n",
      "['c', 'a', 'd', 'b']\n",
      "['c', 'b', 'a', 'd']\n",
      "['c', 'b', 'd', 'a']\n",
      "['c', 'd', 'a', 'b']\n",
      "['c', 'd', 'b', 'a']\n",
      "['d', 'a', 'b', 'c']\n",
      "['d', 'a', 'c', 'b']\n",
      "['d', 'b', 'a', 'c']\n",
      "['d', 'b', 'c', 'a']\n",
      "['d', 'c', 'a', 'b']\n",
      "['d', 'c', 'b', 'a']\n"
     ]
    }
   ],
   "source": [
    "# Realiza pruebas de fun2 aquí\n",
    "for p in permutaciones(['a', 'b', 'c', 'd']):\n",
    "    print(p)"
   ]
  },
  {
   "cell_type": "markdown",
   "metadata": {
    "id": "p7BJ6Bp4GoGw"
   },
   "source": [
    "Ahora escribe una funcipn que reciba 4 digitos del 0 al 9, y devuelva una lista con todas las horas váidas que se puedan hacer con estos dígitos en forma de lista de strings con la forma `\"HH:MM\"`."
   ]
  },
  {
   "cell_type": "code",
   "execution_count": 18,
   "metadata": {
    "id": "_kIVAm_eGoGx"
   },
   "outputs": [],
   "source": [
    "def horas_validas(lista):\n",
    "    \"\"\"\n",
    "    Genera todas las horas válidas posibles a partir de una lista de dígitos del 0 al 9.\n",
    "\n",
    "    Devuelve una lista de strings con la forma \"HH:MM\".\n",
    "    \"\"\"\n",
    "    horas = []\n",
    "    # Combinaciones posibles de los dígitos\n",
    "    for h1 in lista:\n",
    "        for h2 in lista:\n",
    "            for m1 in lista:\n",
    "                for m2 in lista:\n",
    "                    hora = f\"{h1}{h2}:{m1}{m2}\"\n",
    "                    # Verificar si la hora es válida\n",
    "                    if int(hora[:2]) < 24 and int(hora[3:]) < 60:\n",
    "                        horas.append(hora)\n",
    "\n",
    "    return horas"
   ]
  },
  {
   "cell_type": "markdown",
   "metadata": {
    "id": "aIsitWLbGoGx"
   },
   "source": [
    "Validando:"
   ]
  },
  {
   "cell_type": "code",
   "execution_count": 19,
   "metadata": {
    "id": "tqtw9kAGGoGx"
   },
   "outputs": [
    {
     "name": "stdout",
     "output_type": "stream",
     "text": [
      "['11:11', '11:12', '11:13', '11:17', '11:21', '11:22', '11:23', '11:27', '11:31', '11:32', '11:33', '11:37', '12:11', '12:12', '12:13', '12:17', '12:21', '12:22', '12:23', '12:27', '12:31', '12:32', '12:33', '12:37', '13:11', '13:12', '13:13', '13:17', '13:21', '13:22', '13:23', '13:27', '13:31', '13:32', '13:33', '13:37', '17:11', '17:12', '17:13', '17:17', '17:21', '17:22', '17:23', '17:27', '17:31', '17:32', '17:33', '17:37', '21:11', '21:12', '21:13', '21:17', '21:21', '21:22', '21:23', '21:27', '21:31', '21:32', '21:33', '21:37', '22:11', '22:12', '22:13', '22:17', '22:21', '22:22', '22:23', '22:27', '22:31', '22:32', '22:33', '22:37', '23:11', '23:12', '23:13', '23:17', '23:21', '23:22', '23:23', '23:27', '23:31', '23:32', '23:33', '23:37']\n"
     ]
    }
   ],
   "source": [
    "print(horas_validas([1,2,3,7]))"
   ]
  },
  {
   "cell_type": "markdown",
   "metadata": {
    "id": "ikXSQXFOGoGx"
   },
   "source": [
    "Escribe una función, lo más compacta posible, que escoja entre los 3 patrones ascii a continuación, e imprima en pantalla\n",
    "el deseado, pero de dimensión $n$ ($n \\ge 4$), toma en cuanta que para algunos valores de $n$ habrá\n",
    "algún(os) patrones que no se puedan hacer.\n",
    "\n",
    "```\n",
    "          *             ++++           oooooooo\n",
    "          **            ++++           ooo  ooo\n",
    "          ***           ++++           oo    oo\n",
    "          ****          ++++           o      o\n",
    "          *****             ++++       o      o\n",
    "          ******            ++++       oo    oo\n",
    "          *******           ++++       ooo  ooo\n",
    "          ********          ++++       oooooooo\n",
    "\n",
    "```"
   ]
  },
  {
   "cell_type": "code",
   "execution_count": 12,
   "metadata": {
    "id": "DLTaRZSdGoGx"
   },
   "outputs": [],
   "source": [
    "# Escribe aquí la función\n",
    "def imprimir_patron(n):\n",
    "    if n < 4:\n",
    "        print(\"El valor de n debe ser mayor o igual a 4.\")\n",
    "        return\n",
    "    \n",
    "    if n % 2 == 0:\n",
    "        patron = [\"*\"*i for i in range(1, n//2 + 1)]\n",
    "        patron += patron[::-1]\n",
    "    else:\n",
    "        patron = [\"*\"*i for i in range(1, n//2 + 2)]\n",
    "        patron += patron[-2::-1]\n",
    "    \n",
    "    for linea in patron:\n",
    "        print(linea.center(n))"
   ]
  },
  {
   "cell_type": "code",
   "execution_count": 13,
   "metadata": {
    "id": "eFEyjnw0GoGx"
   },
   "outputs": [
    {
     "name": "stdout",
     "output_type": "stream",
     "text": [
      "         *          \n",
      "         **         \n",
      "        ***         \n",
      "        ****        \n",
      "       *****        \n",
      "       ******       \n",
      "      *******       \n",
      "      ********      \n",
      "     *********      \n",
      "     **********     \n",
      "     **********     \n",
      "     *********      \n",
      "      ********      \n",
      "      *******       \n",
      "       ******       \n",
      "       *****        \n",
      "        ****        \n",
      "        ***         \n",
      "         **         \n",
      "         *          \n"
     ]
    }
   ],
   "source": [
    "#Realiza pruebas aquí\n",
    "# Ejemplo de uso\n",
    "imprimir_patron(20)"
   ]
  },
  {
   "cell_type": "markdown",
   "metadata": {
    "id": "3zK-6ZrqGoGx"
   },
   "source": [
    "### Clases y objetos\n",
    "\n",
    "Diseña una clase Matriz con las siguientes características:\n",
    "\n",
    "1. Como inicialización de un objeto es necesario conocer $n$, $m$ y tipo. En caso de no proporcionar $m$ la matriz se asume cuadrada de $n \\times n$. En caso de no proporcionar $n$ la matriz tendrá una dimensión de $1 \\times 1$.\n",
    "2. De no especificarse todos los elementos se inicializan a 0, a menos que exista un tipo especial ( `unos` o `diag` por el momento).\n",
    "3. Implementa con sobrecarga la suma de matrices, la multiplicación de matrices y la multiplicación por un escalar.\n",
    "4. Implementa como métodos eliminar columna y eliminar fila.   \n",
    "5. Programa la representación visual de la matriz.\n",
    "6. Ten en cuenta tambien el manejo de errores.\n",
    "\n",
    "\n",
    "Ejemplo de uso:\n",
    "\n",
    "```\n",
    ">>> A = Matriz(n=3, m=4)\n",
    "\n",
    ">>> print(A)\n",
    "0 0 0 0\n",
    "0 0 0 0\n",
    "0 0 0 0\n",
    "\n",
    ">>> A = A.quitafila(2)\n",
    "\n",
    ">>> print(A)\n",
    "0 0 0 0\n",
    "0 0 0 0\n",
    "\n",
    ">>> B = Matriz(4,4,'diag')\n",
    "\n",
    ">>> print(B)\n",
    "1 0 0 0\n",
    "0 1 0 0\n",
    "0 0 1 0\n",
    "0 0 0 1\n",
    "\n",
    ">>> C = Matriz(4,1,'unos')\n",
    "\n",
    ">>> print(C)\n",
    "1\n",
    "1\n",
    "1\n",
    "1\n",
    "\n",
    ">>> D = 3 * B * C\n",
    "\n",
    ">>> print(D)\n",
    "3\n",
    "3\n",
    "3\n",
    "3\n",
    "\n",
    ">>> E = 3 * B + C\n",
    "error \"No seas menso, si no son de la misma dimensión las matrices no se pueden sumar\"\n",
    "```"
   ]
  },
  {
   "cell_type": "code",
   "execution_count": 14,
   "metadata": {
    "id": "4u8FuiquGoGx"
   },
   "outputs": [],
   "source": [
    "# Desarrolla aqui la clase\n",
    "import numpy as np\n",
    "\n",
    "class Matriz:\n",
    "    def __init__(self, n=1, m=None, tipo='ceros'):\n",
    "        self.n = n\n",
    "        self.m = m if m is not None else n\n",
    "        self.tipo = tipo\n",
    "        self.matriz = self._inicializar_matriz()\n",
    "\n",
    "    def _inicializar_matriz(self):\n",
    "        if self.tipo == 'ceros':\n",
    "            return np.zeros((self.n, self.m))\n",
    "        elif self.tipo == 'unos':\n",
    "            return np.ones((self.n, self.m))\n",
    "        elif self.tipo == 'diag':\n",
    "            return np.eye(self.n, self.m)\n",
    "        else:\n",
    "            raise ValueError(\"Tipo de matriz no soportado. Use 'ceros', 'unos' o 'diag'.\")\n",
    "\n",
    "    def __repr__(self):\n",
    "        return str(self.matriz)\n",
    "\n",
    "    def __add__(self, other):\n",
    "        if isinstance(other, Matriz):\n",
    "            if self.matriz.shape != other.matriz.shape:\n",
    "                raise ValueError(\"Las matrices deben tener la misma dimensión para sumarse.\")\n",
    "            return Matriz(n=self.n, m=self.m, tipo='ceros')._set_data(self.matriz + other.matriz)\n",
    "        else:\n",
    "            raise ValueError(\"Solo se pueden sumar objetos de tipo Matriz.\")\n",
    "\n",
    "    def __mul__(self, other):\n",
    "        if isinstance(other, Matriz):\n",
    "            if self.matriz.shape[1] != other.matriz.shape[0]:\n",
    "                raise ValueError(\"Las matrices no tienen dimensiones compatibles para la multiplicación.\")\n",
    "            return Matriz(n=self.n, m=other.m, tipo='ceros')._set_data(np.dot(self.matriz, other.matriz))\n",
    "        elif isinstance(other, (int, float)):\n",
    "            return Matriz(n=self.n, m=self.m, tipo='ceros')._set_data(self.matriz * other)\n",
    "        else:\n",
    "            raise ValueError(\"La matriz solo puede ser multiplicada por otra matriz o un escalar (int o float).\")\n",
    "\n",
    "    def __rmul__(self, other):\n",
    "        if isinstance(other, (int, float)):\n",
    "            return self * other\n",
    "        else:\n",
    "            raise ValueError(\"La matriz solo puede ser multiplicada por un escalar (int o float).\")\n",
    "\n",
    "    def _set_data(self, data):\n",
    "        self.matriz = data\n",
    "        return self\n",
    "\n",
    "    def eliminar_fila(self, fila):\n",
    "        if fila < 0 or fila >= self.n:\n",
    "            raise IndexError(\"El índice de fila está fuera del rango.\")\n",
    "        self.matriz = np.delete(self.matriz, fila, axis=0)\n",
    "        self.n -= 1\n",
    "        return self\n",
    "\n",
    "    def eliminar_columna(self, columna):\n",
    "        if columna < 0 or columna >= self.m:\n",
    "            raise IndexError(\"El índice de columna está fuera del rango.\")\n",
    "        self.matriz = np.delete(self.matriz, columna, axis=1)\n",
    "        self.m -= 1\n",
    "        return self"
   ]
  },
  {
   "cell_type": "code",
   "execution_count": 15,
   "metadata": {
    "id": "46uaN1IBGoGy"
   },
   "outputs": [
    {
     "name": "stdout",
     "output_type": "stream",
     "text": [
      "A = [[0. 0. 0. 0.]\n",
      " [0. 0. 0. 0.]\n",
      " [0. 0. 0. 0.]]\n",
      "A =  [[0. 0. 0. 0.]\n",
      " [0. 0. 0. 0.]]\n",
      "B =  [[1. 0. 0. 0.]\n",
      " [0. 1. 0. 0.]\n",
      " [0. 0. 1. 0.]\n",
      " [0. 0. 0. 1.]]\n",
      "C = [[1.]\n",
      " [1.]\n",
      " [1.]\n",
      " [1.]]\n",
      "D =  [[3.]\n",
      " [3.]\n",
      " [3.]\n",
      " [3.]]\n",
      "E =  [[4. 1. 1. 1.]\n",
      " [1. 4. 1. 1.]\n",
      " [1. 1. 4. 1.]\n",
      " [1. 1. 1. 4.]]\n"
     ]
    }
   ],
   "source": [
    "# Realiza las pruebas a la clase aquí\n",
    "A = Matriz(n=3, m=4)\n",
    "print('A =', A)\n",
    "\n",
    "A = A.eliminar_fila(2)\n",
    "print('A = ', A)\n",
    "\n",
    "B = Matriz(4, 4, 'diag')\n",
    "print('B = ', B)\n",
    "\n",
    "C = Matriz(4, 1, 'unos')\n",
    "print('C =', C)\n",
    "\n",
    "D = 3 * B * C\n",
    "print('D = ', D)\n",
    "\n",
    "# Expandiendo C para que tenga la misma dimensión que B antes de sumar\n",
    "C_expandida = Matriz(4, 4, 'ceros')._set_data(np.tile(C.matriz, (1, 4)))\n",
    "E = 3 * B + C_expandida\n",
    "print('E = ', E)"
   ]
  }
 ],
 "metadata": {
  "colab": {
   "provenance": []
  },
  "kernelspec": {
   "display_name": "Python 3",
   "language": "python",
   "name": "python3"
  },
  "language_info": {
   "codemirror_mode": {
    "name": "ipython",
    "version": 3
   },
   "file_extension": ".py",
   "mimetype": "text/x-python",
   "name": "python",
   "nbconvert_exporter": "python",
   "pygments_lexer": "ipython3",
   "version": "3.8.8"
  }
 },
 "nbformat": 4,
 "nbformat_minor": 1
}
