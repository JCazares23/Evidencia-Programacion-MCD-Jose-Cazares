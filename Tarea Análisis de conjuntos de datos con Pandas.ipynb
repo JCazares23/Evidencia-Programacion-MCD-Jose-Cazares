{
 "cells": [
  {
   "cell_type": "code",
   "execution_count": 1,
   "id": "c70eb544",
   "metadata": {},
   "outputs": [],
   "source": [
    "import pandas as pd\n",
    "import requests\n",
    "import zipfile\n",
    "from io import BytesIO\n",
    "import matplotlib.pyplot as plt\n",
    "import seaborn as sns"
   ]
  },
  {
   "cell_type": "code",
   "execution_count": 2,
   "id": "8b2a2e4d",
   "metadata": {},
   "outputs": [
    {
     "name": "stdout",
     "output_type": "stream",
     "text": [
      "Archivos en el .zip:\n",
      "Registros/Afecciones.txt\n",
      "Registros/Medicamentos.txt\n",
      "Registros/Procedimientos.txt\n",
      "Registros/Urgencias.txt\n"
     ]
    },
    {
     "name": "stderr",
     "output_type": "stream",
     "text": [
      "<ipython-input-2-05fcdb1697bb>:31: DtypeWarning: Columns (8) have mixed types. Specify dtype option on import or set low_memory=False.\n",
      "  df = pd.read_csv(f, delimiter='|')  # Delimitador cambiado a '|'\n"
     ]
    },
    {
     "name": "stdout",
     "output_type": "stream",
     "text": [
      "Primeras filas del DataFrame después del formato:\n",
      "  fechaingreso hora_ingreso  EDAD    SEXO           DERHAB  \\\n",
      "0   2023-07-12        13:00    46   MUJER           INSABI   \n",
      "1   2023-07-17        21:14    53   MUJER  NO ESPECIFICADO   \n",
      "2   2023-08-06        17:41     6   MUJER          NINGUNA   \n",
      "3   2023-08-14        15:56    62   MUJER             IMSS   \n",
      "4   2023-01-20        14:38     2  HOMBRE          NINGUNA   \n",
      "\n",
      "             TIPOURGENCIA   fechaalta hora_alta  ENTRESIDENCIA  \n",
      "0  URGENCIA NO CALIFICADA  2023-07-12     13:20             26  \n",
      "1  URGENCIA NO CALIFICADA  2023-07-17     22:14             26  \n",
      "2     URGENCIA CALIFICADA  2023-08-06     19:37             26  \n",
      "3     URGENCIA CALIFICADA  2023-08-14     17:15             26  \n",
      "4     URGENCIA CALIFICADA  2023-01-20     15:52             26  \n",
      "Ultimas filas del DataFrame después del formato:\n",
      "       fechaingreso hora_ingreso  EDAD    SEXO           DERHAB  \\\n",
      "193254   2023-04-19        16:00    47   MUJER  NO ESPECIFICADO   \n",
      "193255   2023-04-19        16:00    54  HOMBRE  NO ESPECIFICADO   \n",
      "193256   2023-04-13        08:50    56   MUJER           INSABI   \n",
      "193257   2023-05-07        09:08    21  HOMBRE           INSABI   \n",
      "193258   2023-09-09        16:17    26   MUJER           INSABI   \n",
      "\n",
      "                  TIPOURGENCIA   fechaalta hora_alta  ENTRESIDENCIA  \n",
      "193254     URGENCIA CALIFICADA  2023-04-19     20:00             26  \n",
      "193255     URGENCIA CALIFICADA  2023-04-19     20:30             26  \n",
      "193256  URGENCIA NO CALIFICADA  2023-04-13     09:10             26  \n",
      "193257     URGENCIA CALIFICADA  2023-05-07     11:30             26  \n",
      "193258     URGENCIA CALIFICADA  2023-09-09     17:35             26  \n"
     ]
    }
   ],
   "source": [
    "# URL del archivo .zip en la página web\n",
    "url = 'http://www.dgis.salud.gob.mx/descargas/datosabiertos/urgencias/Urgencias_2023.zip?v=2024.05.06'\n",
    "\n",
    "# Descargar el archivo .zip\n",
    "response = requests.get(url)\n",
    "\n",
    "# Diccionarios de mapeo para las columnas especificadas\n",
    "sexo_mapping = {1: 'HOMBRE', 2: 'MUJER'}\n",
    "derhab_mapping = {\n",
    "    0: 'NO ESPECIFICADO', 1: 'NINGUNA', 2: 'IMSS', 3: 'ISSSTE', 4: 'PEMEX',\n",
    "    5: 'SEDENA', 6: 'SEMAR', 8: 'OTRA', 10: 'IMSS BIENESTAR', 11: 'ISSFAM',\n",
    "    13: 'INSABI', 'G': 'GRATUIDAD'\n",
    "}\n",
    "tipourgencia_mapping = {\n",
    "    1: 'URGENCIA CALIFICADA', 2: 'URGENCIA NO CALIFICADA', 9: 'NO ESPECIFICADO'\n",
    "}\n",
    "\n",
    "# Extraer el contenido del archivo .zip y trabajar con los archivos dentro de él\n",
    "with zipfile.ZipFile(BytesIO(response.content)) as z:\n",
    "    # Obtener la lista de archivos dentro del .zip\n",
    "    file_list = z.namelist()\n",
    "    print(\"Archivos en el .zip:\")\n",
    "    for file_name in file_list:\n",
    "        print(file_name)\n",
    "    \n",
    "    # Suponiendo que el archivo que deseas leer se llama 'Registros/Urgencias.txt'\n",
    "    file_to_read = 'Registros/Urgencias.txt'\n",
    "    if file_to_read in file_list:\n",
    "        with z.open(file_to_read) as f:\n",
    "            # Leer el archivo TXT usando Pandas con el delimitador '|'\n",
    "            df = pd.read_csv(f, delimiter='|')  # Delimitador cambiado a '|'\n",
    "            \n",
    "            # Seleccionar solo las columnas necesarias\n",
    "            df = df[['fechaingreso', 'hora_ingreso', 'EDAD', 'SEXO', 'DERHAB', \n",
    "                     'TIPOURGENCIA', 'fechaalta', 'hora_alta', 'ENTRESIDENCIA']]\n",
    "            \n",
    "            # Mapear los valores de las columnas especificadas\n",
    "            df['SEXO'] = df['SEXO'].map(sexo_mapping)\n",
    "            df['DERHAB'] = df['DERHAB'].map(derhab_mapping)\n",
    "            df['TIPOURGENCIA'] = df['TIPOURGENCIA'].map(tipourgencia_mapping)\n",
    "            \n",
    "            # Filtrar por ENTRESIDENCIA igual a 26\n",
    "            df = df[df['ENTRESIDENCIA'] == 26]\n",
    "            \n",
    "            # Convertir la columna 'fechaingreso' a tipo datetime y establecerla como índice\n",
    "            df['fechaingreso'] = pd.to_datetime(df['fechaingreso'])\n",
    "            df.set_index('fechaingreso', inplace=True)\n",
    "            \n",
    "            # Reiniciar el índice para que la columna 'fechaingreso' permanezca como una columna\n",
    "            df.reset_index(inplace=True)\n",
    "            \n",
    "            # Mostrar las primeras y las ultimas filas del DataFrame después del formato\n",
    "            print(\"Primeras filas del DataFrame después del formato:\")\n",
    "            print(df.head())\n",
    "            print(\"Ultimas filas del DataFrame después del formato:\")\n",
    "            print(df.tail())\n",
    "            \n",
    "    else:\n",
    "        print(f\"El archivo {file_to_read} no se encuentra en el .zip\")"
   ]
  },
  {
   "cell_type": "code",
   "execution_count": 3,
   "id": "2c44a0c9",
   "metadata": {},
   "outputs": [
    {
     "name": "stderr",
     "output_type": "stream",
     "text": [
      "<ipython-input-3-24341d2d6890>:8: DtypeWarning: Columns (8) have mixed types. Specify dtype option on import or set low_memory=False.\n",
      "  df = pd.read_csv(f, delimiter='|')  # Delimitador cambiado a '|'\n"
     ]
    },
    {
     "data": {
      "image/png": "[encoded data removed]",
      "text/plain": [
       "<Figure size 720x432 with 1 Axes>"
      ]
     },
     "metadata": {
      "needs_background": "light"
     },
     "output_type": "display_data"
    }
   ],
   "source": [
    "# Extraer el contenido del archivo .zip y trabajar con los archivos dentro de él\n",
    "with zipfile.ZipFile(BytesIO(response.content)) as z:\n",
    "    # Suponiendo que el archivo que deseas leer se llama 'Registros/Urgencias.txt'\n",
    "    file_to_read = 'Registros/Urgencias.txt'\n",
    "    if file_to_read in z.namelist():\n",
    "        with z.open(file_to_read) as f:\n",
    "            # Leer el archivo TXT usando Pandas con el delimitador '|'\n",
    "            df = pd.read_csv(f, delimiter='|')  # Delimitador cambiado a '|'\n",
    "            \n",
    "            # Seleccionar solo la columna 'DERHAB'\n",
    "            df['DERHAB'] = df['DERHAB'].map(derhab_mapping)\n",
    "            \n",
    "            # Filtrar por ENTRESIDENCIA igual a 26\n",
    "            df = df[df['ENTRESIDENCIA'] == 26]\n",
    "            \n",
    "            # Graficar la distribución de 'DERHAB'\n",
    "            plt.figure(figsize=(10, 6))\n",
    "            df['DERHAB'].value_counts().plot(kind='bar', color='skyblue')\n",
    "            plt.title('Distribución de DERHAB')\n",
    "            plt.xlabel('DERHAB')\n",
    "            plt.ylabel('Frecuencia')\n",
    "            plt.xticks(rotation=45, ha='right')\n",
    "            plt.tight_layout()\n",
    "            plt.show()\n",
    "    else:\n",
    "        print(f\"El archivo {file_to_read} no se encuentra en el .zip\")"
   ]
  },
  {
   "cell_type": "code",
   "execution_count": 4,
   "id": "4cd807cd",
   "metadata": {},
   "outputs": [],
   "source": [
    "# Lo que podemos observar en esta gráfica es que en las emergencias reportadas en Hermosillo, Sonora, México, \n",
    "# la gran mayoría de los casos los afectados son afiliados al Instituto de Salud para el Bienestar (INSABI). \n",
    "# La otra mayoría representa el poco control que se lleva respecto a esta información, ya que muestra que \n",
    "# no se fue especificado ya sea por negligencia al momento de tomar los datos o porque el afectado no presentó \n",
    "# dicha información. Los datos también demuestran indirectamente la gran cantidad de empleos informales que \n",
    "# existen en el país, dado que al no contar con una afiliación al sistema de salud, podemos inferir dicha suposición."
   ]
  },
  {
   "cell_type": "code",
   "execution_count": 5,
   "id": "f76402f9",
   "metadata": {},
   "outputs": [
    {
     "name": "stderr",
     "output_type": "stream",
     "text": [
      "<ipython-input-5-b50b4e8d8a24>:8: DtypeWarning: Columns (8) have mixed types. Specify dtype option on import or set low_memory=False.\n",
      "  df = pd.read_csv(f, delimiter='|')  # Delimitador cambiado a '|'\n"
     ]
    },
    {
     "data": {
      "image/png": "[encoded data removed]",
      "text/plain": [
       "<Figure size 432x432 with 1 Axes>"
      ]
     },
     "metadata": {},
     "output_type": "display_data"
    }
   ],
   "source": [
    "# Extraer el contenido del archivo .zip y trabajar con los archivos dentro de él\n",
    "with zipfile.ZipFile(BytesIO(response.content)) as z:\n",
    "    # Suponiendo que el archivo que deseas leer se llama 'Registros/Urgencias.txt'\n",
    "    file_to_read = 'Registros/Urgencias.txt'\n",
    "    if file_to_read in z.namelist():\n",
    "        with z.open(file_to_read) as f:\n",
    "            # Leer el archivo TXT usando Pandas con el delimitador '|'\n",
    "            df = pd.read_csv(f, delimiter='|')  # Delimitador cambiado a '|'\n",
    "            \n",
    "            # Seleccionar solo la columna 'SEXO' y mapear los valores\n",
    "            df['SEXO'] = df['SEXO'].map(sexo_mapping)\n",
    "            \n",
    "            # Filtrar por ENTRESIDENCIA igual a 26\n",
    "            df = df[df['ENTRESIDENCIA'] == 26]\n",
    "            \n",
    "            # Contar el número de hombres y mujeres\n",
    "            sexo_counts = df['SEXO'].value_counts()\n",
    "            \n",
    "            # Graficar la relación entre hombres y mujeres\n",
    "            plt.figure(figsize=(6, 6))\n",
    "            sexo_counts.plot(kind='pie', autopct='%1.1f%%', colors=['skyblue', 'lightcoral'])\n",
    "            plt.title('Relación entre HOMBRES y MUJERES')\n",
    "            plt.ylabel('')\n",
    "            plt.tight_layout()\n",
    "            plt.show()\n",
    "    else:\n",
    "        print(f\"El archivo {file_to_read} no se encuentra en el .zip\")"
   ]
  },
  {
   "cell_type": "code",
   "execution_count": 6,
   "id": "8b098e4d",
   "metadata": {},
   "outputs": [],
   "source": [
    "# En este caso podemos observar que en las emergencias reportadas en Hermosillo, Sonora, México, \n",
    "# la gran mayoría de los casos los afectados son individuos del sexo femenino, y la minoría de \n",
    "# la gráfica es del sexo masculino, lo que resalta un punto importante ante la creencia de que \n",
    "# el sexo masculino tiende a tener más emergencias."
   ]
  }
 ],
 "metadata": {
  "kernelspec": {
   "display_name": "Python 3",
   "language": "python",
   "name": "python3"
  },
  "language_info": {
   "codemirror_mode": {
    "name": "ipython",
    "version": 3
   },
   "file_extension": ".py",
   "mimetype": "text/x-python",
   "name": "python",
   "nbconvert_exporter": "python",
   "pygments_lexer": "ipython3",
   "version": "3.8.8"
  }
 },
 "nbformat": 4,
 "nbformat_minor": 5
}
